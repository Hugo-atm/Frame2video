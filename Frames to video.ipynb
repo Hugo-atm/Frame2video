{
 "cells": [
  {
   "cell_type": "code",
   "execution_count": 1,
   "id": "8715a08f",
   "metadata": {},
   "outputs": [
    {
     "name": "stderr",
     "output_type": "stream",
     "text": [
      "Converting frames to video: 100%|██████████| 8044/8044 [05:59<00:00, 22.39it/s]\n",
      "Writing frames to video: 100%|██████████| 8044/8044 [06:03<00:00, 22.10it/s] \n"
     ]
    }
   ],
   "source": [
    "import cv2\n",
    "import os\n",
    "from tqdm import tqdm\n",
    "\n",
    "input_frames_dir = r\"D:\\lama_output\\S34\"\n",
    "output_video_path = r\"D:\\Tugas Akhir\\Subject TA\\S34\\S34 raw video\\S34_FR_Markerless.MP4\"\n",
    "fps = 30\n",
    "\n",
    "frame_array = []\n",
    "files = [f for f in os.listdir(input_frames_dir) if os.path.isfile(os.path.join(input_frames_dir, f))]\n",
    "\n",
    "# Sort the files\n",
    "files.sort(key=lambda x: int(x.split('_')[1].split('.')[0]))\n",
    "\n",
    "for i in tqdm(range(len(files)), desc=\"Converting frames to video\"):\n",
    "    filename = os.path.join(input_frames_dir, files[i])\n",
    "    img = cv2.imread(filename)\n",
    "    height, width, layers = img.shape\n",
    "    size = (width, height)\n",
    "    frame_array.append(img)\n",
    "\n",
    "out = cv2.VideoWriter(output_video_path, cv2.VideoWriter_fourcc(*'mp4v'), 120, size)\n",
    "\n",
    "for i in tqdm(range(len(frame_array)), desc=\"Writing frames to video\"):\n",
    "    out.write(frame_array[i])\n",
    "\n",
    "out.release()\n"
   ]
  },
  {
   "cell_type": "code",
   "execution_count": null,
   "id": "a917eae0",
   "metadata": {},
   "outputs": [],
   "source": []
  }
 ],
 "metadata": {
  "kernelspec": {
   "display_name": "Python 3 (ipykernel)",
   "language": "python",
   "name": "python3"
  },
  "language_info": {
   "codemirror_mode": {
    "name": "ipython",
    "version": 3
   },
   "file_extension": ".py",
   "mimetype": "text/x-python",
   "name": "python",
   "nbconvert_exporter": "python",
   "pygments_lexer": "ipython3",
   "version": "3.10.9"
  }
 },
 "nbformat": 4,
 "nbformat_minor": 5
}
